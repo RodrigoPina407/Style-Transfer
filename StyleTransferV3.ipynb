{
  "cells": [
    {
      "cell_type": "code",
      "execution_count": null,
      "metadata": {
        "id": "0vnbVN330Kqo"
      },
      "outputs": [],
      "source": [
        "import tensorflow as tf\n",
        " \n",
        "import IPython.display as display\n",
        " \n",
        "import matplotlib.pyplot as plt\n",
        "import matplotlib as mpl\n",
        "mpl.rcParams['figure.figsize'] = (12,12)\n",
        "mpl.rcParams['axes.grid'] = False\n",
        " \n",
        "import numpy as np\n",
        "import PIL.Image\n",
        "import time\n",
        "import functools"
      ]
    },
    {
      "cell_type": "code",
      "execution_count": null,
      "metadata": {
        "id": "JIEwM2HixnkR"
      },
      "outputs": [],
      "source": [
        "content_layers = ['block5_conv2'] \n",
        "\n",
        "style_layers = ['block1_conv1',\n",
        "                'block2_conv1',\n",
        "                'block3_conv1',\n",
        "                'block4_conv1', \n",
        "                'block5_conv1']\n",
        "\n",
        "\n",
        "num_content_layers = len(content_layers)\n",
        "num_style_layers = len(style_layers)\n"
      ]
    },
    {
      "cell_type": "code",
      "execution_count": null,
      "metadata": {
        "id": "xtJ7Ttg_z7Ll"
      },
      "outputs": [],
      "source": [
        "def obter_layers(layer_names):\n",
        "  \"\"\" Creates a vgg model that returns a list of intermediate output values.\"\"\"\n",
        "  # Load our model. Load pretrained VGG, trained on imagenet data\n",
        "  vgg = tf.keras.applications.VGG19(include_top=False, weights='imagenet')\n",
        "  vgg.trainable = False\n",
        "  \n",
        "  outputs = [vgg.get_layer(name).output for name in layer_names]\n",
        "\n",
        "  model = tf.keras.Model([vgg.input], outputs)\n",
        "  return model"
      ]
    },
    {
      "cell_type": "code",
      "execution_count": null,
      "metadata": {
        "id": "pydFOPnb1pbJ"
      },
      "outputs": [],
      "source": [
        "def tensor_to_image(tensor):\n",
        "  tensor = tensor*255\n",
        "  tensor = np.array(tensor, dtype=np.uint8)\n",
        "  if np.ndim(tensor)>3:\n",
        "    assert tensor.shape[0] == 1\n",
        "    tensor = tensor[0]\n",
        "  return PIL.Image.fromarray(tensor)\n"
      ]
    },
    {
      "cell_type": "code",
      "execution_count": null,
      "metadata": {
        "id": "z6XiAt-f119K"
      },
      "outputs": [],
      "source": [
        "def load_img(path_to_img):\n",
        "  max_dim = 512\n",
        "  img = tf.io.read_file(path_to_img)\n",
        "  img = tf.image.decode_image(img, channels=3)\n",
        "  img = tf.image.convert_image_dtype(img, tf.float32)\n",
        "\n",
        "  shape = tf.cast(tf.shape(img)[:-1], tf.float32)\n",
        "  long_dim = max(shape)\n",
        "  scale = max_dim / long_dim\n",
        "\n",
        "  new_shape = tf.cast(shape * scale, tf.int32)\n",
        "\n",
        "  img = tf.image.resize(img, new_shape)\n",
        "  img = img[tf.newaxis, :]\n",
        "  return img"
      ]
    },
    {
      "cell_type": "code",
      "execution_count": null,
      "metadata": {
        "id": "dKxt-UDc1_Eo"
      },
      "outputs": [],
      "source": [
        "def gram_matrix(input_tensor):\n",
        "  result = tf.linalg.einsum('bijc,bijd->bcd', input_tensor, input_tensor)\n",
        "  input_shape = tf.shape(input_tensor)\n",
        "  num_locations = tf.cast(input_shape[1]*input_shape[2], tf.float32)\n",
        "  return result/(num_locations)\n"
      ]
    },
    {
      "cell_type": "code",
      "execution_count": null,
      "metadata": {
        "id": "nfcWlU3S29KG"
      },
      "outputs": [],
      "source": [
        "class StyleTransfer(tf.keras.models.Model):\n",
        "\n",
        "  def __init__(self, content_layers, style_layers) :\n",
        "    super().__init__()\n",
        "\n",
        "    self.content_layers = content_layers\n",
        "    self.style_layers = style_layers\n",
        "    self.num_content_layers = len(content_layers)\n",
        "    self.num_style_layers = len(style_layers)\n",
        "    self.model = obter_layers( content_layers + style_layers)\n",
        "    self.model.trainable = False\n",
        "\n",
        "  def __call__(self,inputs):\n",
        "\n",
        "    inputs = inputs*255\n",
        "    preprocessed_input = tf.keras.applications.vgg19.preprocess_input(inputs)\n",
        "\n",
        "    outputs = self.model(preprocessed_input)\n",
        "\n",
        "    content_output, style_outputs = (outputs[:num_content_layers],outputs[num_content_layers:])\n",
        "\n",
        "    style_outputs = [gram_matrix(style_output) \n",
        "                      for style_output in style_outputs]\n",
        "    \n",
        "    content_dict = {content_name:valor\n",
        "                    for content_name, valor  in zip(content_layers, content_output)}\n",
        "\n",
        "    style_dict = {style_name:valor\n",
        "                  for style_name, valor in zip(style_layers, style_outputs)}\n",
        "\n",
        "    return {'content':content_dict , 'style':style_dict}\n",
        "  \n",
        " "
      ]
    },
    {
      "cell_type": "code",
      "execution_count": null,
      "metadata": {
        "id": "k4cs9nLFAMGq"
      },
      "outputs": [],
      "source": [
        "content_image = load_img('content.jpeg')\n",
        "style_image = load_img('style.jpg')"
      ]
    },
    {
      "cell_type": "code",
      "execution_count": null,
      "metadata": {
        "id": "6HznKcW5_NP6"
      },
      "outputs": [],
      "source": [
        "transfer = StyleTransfer(content_layers, style_layers)"
      ]
    },
    {
      "cell_type": "code",
      "execution_count": null,
      "metadata": {
        "id": "CTSN5z2YAGmD"
      },
      "outputs": [],
      "source": [
        "content_features = transfer(content_image)['content']\n",
        "style_features = transfer(style_image)['style']"
      ]
    },
    {
      "cell_type": "code",
      "execution_count": null,
      "metadata": {
        "colab": {
          "base_uri": "https://localhost:8080/"
        },
        "id": "vbx6lsdAuJSb",
        "outputId": "a56500c8-e73d-444c-fe78-a55a94f68cb9"
      },
      "outputs": [
        {
          "data": {
            "text/plain": [
              "(1, 384, 512, 3)"
            ]
          },
          "execution_count": 867,
          "metadata": {},
          "output_type": "execute_result"
        }
      ],
      "source": [
        "np.array(content_image).shape"
      ]
    },
    {
      "cell_type": "code",
      "execution_count": null,
      "metadata": {
        "id": "rfxd72zoBIid"
      },
      "outputs": [],
      "source": [
        "imagem = tf.Variable(content_image) "
      ]
    },
    {
      "cell_type": "code",
      "execution_count": null,
      "metadata": {
        "id": "1D-4WIpUHofS"
      },
      "outputs": [],
      "source": [
        "#imagem = tf.Variable(np.float32(np.random.rand(1,384,512,3)))"
      ]
    },
    {
      "cell_type": "code",
      "execution_count": null,
      "metadata": {
        "id": "KqsZk0TrBV6S"
      },
      "outputs": [],
      "source": [
        "opt = tf.optimizers.Adam(learning_rate=0.01, beta_1=0.99, epsilon=1e-1) #learning 0.03"
      ]
    },
    {
      "cell_type": "code",
      "execution_count": null,
      "metadata": {
        "id": "uirr7Vk3Gama"
      },
      "outputs": [],
      "source": [
        " def clip_0_1(image):\n",
        "    return tf.clip_by_value(image, clip_value_min=0.0, clip_value_max=1.0)\n",
        "\n",
        "def style_content_loss(outputs):\n",
        "    style_outputs = outputs['style']\n",
        "    content_outputs = outputs['content']\n",
        "    style_loss = tf.add_n([tf.reduce_mean((style_outputs[name]-style_features[name])**2) \n",
        "                          for name in style_outputs.keys()])\n",
        "    style_loss *= style_weight / num_style_layers\n",
        "\n",
        "    content_loss = tf.add_n([tf.reduce_mean((content_outputs[name]-content_features[name])**2) \n",
        "                            for name in content_outputs.keys()])\n",
        "    content_loss *= content_weight / num_content_layers\n",
        "    loss = style_loss + content_loss\n",
        "    return loss\n"
      ]
    },
    {
      "cell_type": "code",
      "execution_count": null,
      "metadata": {
        "id": "4rqi91U9FMBr"
      },
      "outputs": [],
      "source": [
        "@tf.function()\n",
        "def train_step(imagem):\n",
        "  with tf.GradientTape() as tape:\n",
        "    outputs = transfer(imagem)\n",
        "    loss = style_content_loss(outputs)\n",
        "    loss += total_variation_weight*tf.image.total_variation(imagem)\n",
        "\n",
        "  grad = tape.gradient(loss, imagem)\n",
        "  opt.apply_gradients([(grad, imagem)])\n",
        "  imagem.assign(clip_0_1(imagem))\n",
        "  return loss"
      ]
    },
    {
      "cell_type": "code",
      "execution_count": null,
      "metadata": {
        "id": "VOx7V5NgBjpm"
      },
      "outputs": [],
      "source": [
        "style_weight=1e-2#0.7\n",
        "content_weight=1e4 #100\n",
        "total_variation_weight=30"
      ]
    },
    {
      "cell_type": "code",
      "execution_count": null,
      "metadata": {
        "colab": {
          "background_save": true
        },
        "id": "om-amZpJFuek"
      },
      "outputs": [],
      "source": [
        "import time\n",
        "start = time.time()\n",
        "melhor_loss = 20000000000000000000000000\n",
        "epochs = 50\n",
        "steps_per_epoch = 100\n",
        "\n",
        "step = 0\n",
        "for n in range(epochs):\n",
        "  for m in range(steps_per_epoch):\n",
        "    step += 1\n",
        "    loss = train_step(imagem)\n",
        "    print(\".\", end='')\n",
        "    if loss < melhor_loss:\n",
        "      melhor_loss = loss\n",
        "      img_final = imagem\n",
        "      \n",
        "  display.clear_output(wait=True)\n",
        "  display.display(tensor_to_image(imagem))\n",
        "  print(\"Train step: {}\".format(step))\n",
        "  \n",
        "end = time.time()\n",
        "print(\"Total time: {:.1f}\".format(end-start))\n",
        "file_name = 'out.png'\n",
        "tensor_to_image(img_final).save(file_name)\n",
        "tensor_to_image(img_final)\n"
      ]
    },
    {
      "cell_type": "code",
      "execution_count": null,
      "metadata": {
        "colab": {
          "background_save": true
        },
        "id": "PRcHomT8e-8l"
      },
      "outputs": [],
      "source": [
        "file_name = 'out.png'\n",
        "tensor_to_image(img_final).save(file_name)\n",
        "tensor_to_image(img_final)"
      ]
    }
  ],
  "metadata": {
    "accelerator": "GPU",
    "colab": {
      "collapsed_sections": [],
      "name": "StyleTransferV3",
      "provenance": []
    },
    "kernelspec": {
      "display_name": "Python 3",
      "name": "python3"
    }
  },
  "nbformat": 4,
  "nbformat_minor": 0
}